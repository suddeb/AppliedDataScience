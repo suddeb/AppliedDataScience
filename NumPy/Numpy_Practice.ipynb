{
 "cells": [
  {
   "cell_type": "markdown",
   "metadata": {
    "colab_type": "text",
    "id": "view-in-github"
   },
   "source": [
    "<a href=\"https://colab.research.google.com/github/suddeb/AppliedDataScience/blob/main/Numpy_Practice.ipynb\" target=\"_parent\"><img src=\"https://colab.research.google.com/assets/colab-badge.svg\" alt=\"Open In Colab\"/></a>"
   ]
  },
  {
   "cell_type": "code",
   "execution_count": null,
   "metadata": {
    "colab": {
     "base_uri": "https://localhost:8080/"
    },
    "id": "ORWYVTJV_m5e",
    "outputId": "fbb91620-1e16-498f-9ec6-005162012017"
   },
   "outputs": [],
   "source": [
    "!pip install numpy\n",
    "import numpy as np"
   ]
  },
  {
   "cell_type": "markdown",
   "metadata": {
    "id": "xqRmUOOpCO1k"
   },
   "source": [
    "**NumPy Array**"
   ]
  },
  {
   "cell_type": "code",
   "execution_count": 4,
   "metadata": {
    "colab": {
     "base_uri": "https://localhost:8080/"
    },
    "id": "k4_J0eHEAFoL",
    "outputId": "209ffe00-352b-4b8b-e4d7-7b76a1e893e1"
   },
   "outputs": [
    {
     "name": "stdout",
     "output_type": "stream",
     "text": [
      "Numpy Array (np_arr_str):  ['Mercedes' 'Audi' 'Tesla' 'BMW' 'Ferrari']\n",
      "Numpy Array (np_arr_num):  [5 3 7 9 1 6]\n"
     ]
    }
   ],
   "source": [
    "# Python List\n",
    "arr_str = [\"Mercedes\",\"Audi\",\"Tesla\",\"BMW\",\"Ferrari\"]\n",
    "arr_num=[5,3,7,9,1,6]\n",
    "\n",
    "# Converting Python List to Numpy Array\n",
    "np_arr_str = np.array(arr_str)\n",
    "np_arr_num = np.array(arr_num)\n",
    "\n",
    "# Printing Numpy Array\n",
    "print(\"Numpy Array (np_arr_str): \",np_arr_str)\n",
    "print(\"Numpy Array (np_arr_num): \",np_arr_num)"
   ]
  },
  {
   "cell_type": "code",
   "execution_count": 5,
   "metadata": {
    "colab": {
     "base_uri": "https://localhost:8080/"
    },
    "id": "U8XC4kqKCHp2",
    "outputId": "4d5e377e-b114-401f-a461-14643f2158bd"
   },
   "outputs": [
    {
     "name": "stdout",
     "output_type": "stream",
     "text": [
      "Type of Python List (arr_str):  <class 'list'>\n",
      "Type of Python List (arr_num):  <class 'list'>\n",
      "Type of Numpy Array (np_arr_str):  <class 'numpy.ndarray'>\n",
      "Type of Numpy Array (np_arr_num):  <class 'numpy.ndarray'>\n"
     ]
    }
   ],
   "source": [
    "# Printing Type\n",
    "print(\"Type of Python List (arr_str): \",type(arr_str))\n",
    "print(\"Type of Python List (arr_num): \",type(arr_num))\n",
    "print(\"Type of Numpy Array (np_arr_str): \",type(np_arr_str))\n",
    "print(\"Type of Numpy Array (np_arr_num): \",type(np_arr_num))"
   ]
  },
  {
   "cell_type": "markdown",
   "metadata": {
    "id": "p_H5X28-CUpw"
   },
   "source": [
    "**NumPy Matrix**"
   ]
  },
  {
   "cell_type": "code",
   "execution_count": null,
   "metadata": {
    "colab": {
     "base_uri": "https://localhost:8080/"
    },
    "id": "hwMfzzQWCYlg",
    "outputId": "76814f2e-addc-4f75-b148-4c3ccf39f954"
   },
   "outputs": [
    {
     "name": "stdout",
     "output_type": "stream",
     "text": [
      "[[100 200 300]\n",
      " [400 500 600]\n",
      " [700 800 900]]\n",
      "Data Type of the Matrix:  <class 'numpy.ndarray'>\n"
     ]
    }
   ],
   "source": [
    "matrix_2d = np.array([[100,200,300],[400,500,600],[700,800,900]])\n",
    "print(matrix_2d)\n",
    "print(\"Data Type of the Matrix: \", type(matrix_2d))"
   ]
  },
  {
   "cell_type": "markdown",
   "metadata": {
    "id": "6dAzgNMsaJ1x"
   },
   "source": [
    "**NumPy Functions**"
   ]
  },
  {
   "cell_type": "code",
   "execution_count": 3,
   "metadata": {
    "colab": {
     "base_uri": "https://localhost:8080/"
    },
    "id": "NMKc2ViBaXIe",
    "outputId": "25a19a06-adb6-4f43-fe04-39984a4dbf52"
   },
   "outputs": [
    {
     "data": {
      "text/plain": [
       "[0, 1, 2, 3, 4, 5, 6, 7, 8]"
      ]
     },
     "execution_count": 3,
     "metadata": {},
     "output_type": "execute_result"
    }
   ],
   "source": [
    "# List containing Integers 0 to 9\n",
    "list(range(0,9)) # Python is exclusive of the last number"
   ]
  },
  {
   "cell_type": "markdown",
   "metadata": {
    "id": "7s8isv96a6WA"
   },
   "source": [
    "**NumPy Function - np.arange()**\n",
    "\n",
    "\n",
    "---\n",
    "\n",
    "\n",
    "This function returns an numpy array with evenly spaced elements as per the interval. The interval mentioned is half-opened i.e. start is included, but stop is excluded.\n",
    "Parameters:\n",
    "\n",
    "\n",
    "*   start - start of interval range. Default is 0\n",
    "*   stop - end of interbal range.\n",
    "*   step - step size of interval. Default is 0\n",
    "\n",
    "\n"
   ]
  },
  {
   "cell_type": "code",
   "execution_count": 9,
   "metadata": {
    "colab": {
     "base_uri": "https://localhost:8080/"
    },
    "id": "faaNFqT9bknG",
    "outputId": "0acea5d0-f8ef-4f73-93d9-e53b8c1c499b"
   },
   "outputs": [
    {
     "data": {
      "text/plain": [
       "array([0, 1, 2, 3, 4, 5, 6, 7, 8, 9])"
      ]
     },
     "execution_count": 9,
     "metadata": {},
     "output_type": "execute_result"
    }
   ],
   "source": [
    "arr = np.arange(0,10)\n",
    "arr"
   ]
  },
  {
   "cell_type": "code",
   "execution_count": 7,
   "metadata": {
    "colab": {
     "base_uri": "https://localhost:8080/"
    },
    "id": "ut9s-rHNbtpX",
    "outputId": "aee531d0-12d0-42bd-aea6-d16a087cc8b9"
   },
   "outputs": [
    {
     "data": {
      "text/plain": [
       "array([ 0,  2,  4,  6,  8, 10, 12, 14, 16, 18])"
      ]
     },
     "execution_count": 7,
     "metadata": {},
     "output_type": "execute_result"
    }
   ],
   "source": [
    "# Adding a step\n",
    "arr_with_step = np.arange(0,20,2)\n",
    "arr_with_step"
   ]
  },
  {
   "cell_type": "markdown",
   "metadata": {
    "id": "T98wkSXuchHR"
   },
   "source": [
    "**NumPy Function - np.linspace()**\n",
    "\n",
    "\n",
    "---\n",
    "\n",
    "\n",
    "The np.linspace() function returns numpy array of numbers which are evenly distributed with respect to interval. Here the start and stop both are included.\n",
    "Parameters:\n",
    "\n",
    "\n",
    "*   start - start of interval range. Default is 0\n",
    "*   stop - end of interval range\n",
    "*   num - number of samples to generate. Default is 50"
   ]
  },
  {
   "cell_type": "code",
   "execution_count": 10,
   "metadata": {
    "colab": {
     "base_uri": "https://localhost:8080/"
    },
    "id": "XDfRktSidO09",
    "outputId": "ce493160-c942-4506-be6a-8ddefe170e54"
   },
   "outputs": [
    {
     "data": {
      "text/plain": [
       "array([ 0.        ,  0.51020408,  1.02040816,  1.53061224,  2.04081633,\n",
       "        2.55102041,  3.06122449,  3.57142857,  4.08163265,  4.59183673,\n",
       "        5.10204082,  5.6122449 ,  6.12244898,  6.63265306,  7.14285714,\n",
       "        7.65306122,  8.16326531,  8.67346939,  9.18367347,  9.69387755,\n",
       "       10.20408163, 10.71428571, 11.2244898 , 11.73469388, 12.24489796,\n",
       "       12.75510204, 13.26530612, 13.7755102 , 14.28571429, 14.79591837,\n",
       "       15.30612245, 15.81632653, 16.32653061, 16.83673469, 17.34693878,\n",
       "       17.85714286, 18.36734694, 18.87755102, 19.3877551 , 19.89795918,\n",
       "       20.40816327, 20.91836735, 21.42857143, 21.93877551, 22.44897959,\n",
       "       22.95918367, 23.46938776, 23.97959184, 24.48979592, 25.        ])"
      ]
     },
     "execution_count": 10,
     "metadata": {},
     "output_type": "execute_result"
    }
   ],
   "source": [
    "my_matrix=np.linspace(0,25)\n",
    "my_matrix"
   ]
  },
  {
   "cell_type": "markdown",
   "metadata": {
    "id": "ikjjg3Obd3WB"
   },
   "source": [
    "**How are these values getting calaculated?**\n",
    "\n",
    "\n",
    "---\n",
    "Formula = (stop - start)/(total_number_of_elements - 1)\n",
    "        = (25 - 0)/49\n",
    "        = 0.51020408\n"
   ]
  },
  {
   "cell_type": "markdown",
   "metadata": {
    "id": "yD4cPe1Uf7RJ"
   },
   "source": [
    "**Question**\n",
    "\n",
    "---\n",
    "How can we make 10 evenly spaced values between 0 and 100 ?\n"
   ]
  },
  {
   "cell_type": "code",
   "execution_count": 11,
   "metadata": {
    "colab": {
     "base_uri": "https://localhost:8080/"
    },
    "id": "AZxfQ4aQgTiH",
    "outputId": "cc43a043-d1f9-4b0c-c378-748e961ad7da"
   },
   "outputs": [
    {
     "data": {
      "text/plain": [
       "array([  0.        ,  11.11111111,  22.22222222,  33.33333333,\n",
       "        44.44444444,  55.55555556,  66.66666667,  77.77777778,\n",
       "        88.88888889, 100.        ])"
      ]
     },
     "execution_count": 11,
     "metadata": {},
     "output_type": "execute_result"
    }
   ],
   "source": [
    "arr_1=np.linspace(0,100,10)\n",
    "arr_1"
   ]
  },
  {
   "cell_type": "markdown",
   "metadata": {
    "id": "A3_KbC23gbOj"
   },
   "source": [
    "**Question**\n",
    "\n",
    "---\n",
    "How can we make evenly spaced values between 0 and 100(inclusive) where the space between two numbers will be 10?"
   ]
  },
  {
   "cell_type": "code",
   "execution_count": 13,
   "metadata": {
    "colab": {
     "base_uri": "https://localhost:8080/"
    },
    "id": "LbHj9B1-hJyo",
    "outputId": "26ca0fcd-bf10-4962-92be-3b1fbe8870b3"
   },
   "outputs": [
    {
     "data": {
      "text/plain": [
       "array([  0,  10,  20,  30,  40,  50,  60,  70,  80,  90, 100])"
      ]
     },
     "execution_count": 13,
     "metadata": {},
     "output_type": "execute_result"
    }
   ],
   "source": [
    "arr_2=np.arange(0,101,10)\n",
    "arr_2"
   ]
  },
  {
   "cell_type": "markdown",
   "metadata": {
    "id": "NcM6I1plipr6"
   },
   "source": [
    "**NumPy Function - np.zeros()**\n",
    "\n",
    "---\n",
    "This is a function for creating a matrix and performing matrix operation in NumPy. It returns a matrix filled with zeros of the given space.\n",
    "Parameters:\n",
    "\n",
    "\n",
    "*   shape: Number of rows and columns in the matrix\n",
    "*   dtype: data type of the elements in the matrix, Default is set to float."
   ]
  },
  {
   "cell_type": "code",
   "execution_count": 14,
   "metadata": {
    "colab": {
     "base_uri": "https://localhost:8080/"
    },
    "id": "ZrpKiB4tjTG_",
    "outputId": "1092e8da-3cd8-41bc-e33f-9433b4883602"
   },
   "outputs": [
    {
     "data": {
      "text/plain": [
       "array([[0., 0., 0., 0., 0.],\n",
       "       [0., 0., 0., 0., 0.],\n",
       "       [0., 0., 0., 0., 0.]])"
      ]
     },
     "execution_count": 14,
     "metadata": {},
     "output_type": "execute_result"
    }
   ],
   "source": [
    "matrix_1=np.zeros([3,5])\n",
    "matrix_1"
   ]
  },
  {
   "cell_type": "markdown",
   "metadata": {
    "id": "s0gN_ekIjiBb"
   },
   "source": [
    "**NumPy Function - np.ones()**\n",
    "\n",
    "\n",
    "---\n",
    "This is another function for creating a matrix and performing matrix operations in NumPy. It returns a matrix of given shape and type, filles with ones.\n",
    "Parameter:\n",
    "\n",
    "*   shape: Number of rows and columns in the matrix\n",
    "*   dtype: data type of the elements in the matrix, Default is set to float."
   ]
  },
  {
   "cell_type": "code",
   "execution_count": 16,
   "metadata": {
    "colab": {
     "base_uri": "https://localhost:8080/"
    },
    "id": "JNxmb8qDj8Ka",
    "outputId": "a9862df5-98a6-48a1-f0dd-93c9e376c779"
   },
   "outputs": [
    {
     "data": {
      "text/plain": [
       "array([[1., 1., 1., 1., 1.],\n",
       "       [1., 1., 1., 1., 1.],\n",
       "       [1., 1., 1., 1., 1.]])"
      ]
     },
     "execution_count": 16,
     "metadata": {},
     "output_type": "execute_result"
    }
   ],
   "source": [
    "matrix_2=np.ones([3,5])\n",
    "matrix_2"
   ]
  },
  {
   "cell_type": "markdown",
   "metadata": {
    "id": "f6xJAF8KkcFq"
   },
   "source": [
    "**NumPy Function - np.eye()**\n",
    "\n",
    "---\n",
    "This is another function for creating a matrix and performating matrix operations in NumPy. It returns a matrix with ones on the diagonal and zeros elsewhere.\n",
    "Parameter:\n",
    "\n",
    "*   n: Number of rows and columns in the matrix\n",
    "*   dtype: data type of the elements in the matrix, Default is set to float.\n",
    "\n",
    "\n",
    "\n"
   ]
  },
  {
   "cell_type": "code",
   "execution_count": 19,
   "metadata": {
    "colab": {
     "base_uri": "https://localhost:8080/"
    },
    "id": "X0_gMRs9k8hB",
    "outputId": "6c458820-babb-4820-f790-7d3486294b49"
   },
   "outputs": [
    {
     "data": {
      "text/plain": [
       "array([[1., 0., 0., 0., 0.],\n",
       "       [0., 1., 0., 0., 0.],\n",
       "       [0., 0., 1., 0., 0.],\n",
       "       [0., 0., 0., 1., 0.],\n",
       "       [0., 0., 0., 0., 1.]])"
      ]
     },
     "execution_count": 19,
     "metadata": {},
     "output_type": "execute_result"
    }
   ],
   "source": [
    "matrix_3=np.eye(5)\n",
    "matrix_3"
   ]
  },
  {
   "cell_type": "markdown",
   "metadata": {
    "id": "MAzc4LYzla-g"
   },
   "source": [
    "**NumPy Function - np.reshape()**\n",
    "\n",
    "---\n",
    "This function is used to convert a one dimensional array to a matrix. The shape of the array basically tells the number of the elements and dimensions of the array. Reshaping a NumPy Array simply means changing the shape of the given array. By reshaping an array, we can add or remove dimensions or change number of elements in each dimension.\n",
    "\n",
    "In order to reshape a NumPy array, we use the reshape method with the given array.\n",
    "\n",
    "**Syntax**: array.reshape(shape) where shape: a tuple given as input, the values in tuple will be the new shape of the array.\n",
    "\n"
   ]
  },
  {
   "cell_type": "code",
   "execution_count": 21,
   "metadata": {
    "colab": {
     "base_uri": "https://localhost:8080/"
    },
    "id": "J9_XniA44uCq",
    "outputId": "3f5aca23-4b2f-4470-9499-f8e5f6a48577"
   },
   "outputs": [
    {
     "data": {
      "text/plain": [
       "array([0, 1, 2, 3, 4, 5, 6, 7, 8, 9])"
      ]
     },
     "execution_count": 21,
     "metadata": {},
     "output_type": "execute_result"
    }
   ],
   "source": [
    "arr_3=np.arange(0,10)\n",
    "arr_3"
   ]
  },
  {
   "cell_type": "code",
   "execution_count": 26,
   "metadata": {
    "colab": {
     "base_uri": "https://localhost:8080/"
    },
    "id": "jkIR0RiP5DkE",
    "outputId": "072987c2-f8ec-46c1-c824-51d7bf57ebd2"
   },
   "outputs": [
    {
     "data": {
      "text/plain": [
       "array([[0, 1, 2, 3, 4],\n",
       "       [5, 6, 7, 8, 9]])"
      ]
     },
     "execution_count": 26,
     "metadata": {},
     "output_type": "execute_result"
    }
   ],
   "source": [
    "arr_3_reshaped=arr_3.reshape([2,5])\n",
    "arr_3_reshaped"
   ]
  },
  {
   "cell_type": "markdown",
   "metadata": {
    "id": "unfp4yKL5pvJ"
   },
   "source": [
    "**Question**: What will happen when we will try to make it a 2 X 6 Matrix?"
   ]
  },
  {
   "cell_type": "code",
   "execution_count": null,
   "metadata": {
    "id": "vWDfQzjR5vRF"
   },
   "outputs": [],
   "source": [
    "arr_3_reshaped=arr_3.reshape([2,6])\n",
    "arr_3_reshaped"
   ]
  },
  {
   "cell_type": "markdown",
   "metadata": {
    "id": "_uJ-LCvQ56w6"
   },
   "source": [
    "**Explanation**: It will fail because a 2 X 6 matrix needs 12 elements and we have only 10 elements."
   ]
  },
  {
   "cell_type": "markdown",
   "metadata": {
    "id": "2sDd2kX06dUA"
   },
   "source": [
    "**NumPy Trigonometric Functions**"
   ]
  },
  {
   "cell_type": "code",
   "execution_count": 28,
   "metadata": {
    "colab": {
     "base_uri": "https://localhost:8080/"
    },
    "id": "Dz72KlbT6ifC",
    "outputId": "6a33337e-9e7f-42d3-8d9a-5e597bfa3a09"
   },
   "outputs": [
    {
     "name": "stdout",
     "output_type": "stream",
     "text": [
      "Sine Function:  -0.7568024953079282\n",
      "Cosine Function:  -0.6536436208636119\n",
      "Tan Function:  1.1578212823495775\n"
     ]
    }
   ],
   "source": [
    "print(\"Sine Function: \",np.sin(4))\n",
    "print(\"Cosine Function: \",np.cos(4))\n",
    "print(\"Tan Function: \",np.tan(4))"
   ]
  },
  {
   "cell_type": "markdown",
   "metadata": {
    "id": "dL5DPLMN6-3t"
   },
   "source": [
    "**NumPy Exponents Functions**"
   ]
  },
  {
   "cell_type": "code",
   "execution_count": 3,
   "metadata": {
    "colab": {
     "base_uri": "https://localhost:8080/"
    },
    "id": "RjthtDoQ7B-a",
    "outputId": "7fa5ab47-6678-4da2-9706-493311bbd46b"
   },
   "outputs": [
    {
     "name": "stdout",
     "output_type": "stream",
     "text": [
      "Exponent of 2:  7.38905609893065\n",
      "Exponent of arr_4 is:  [  7.3890561   54.59815003 403.42879349]\n"
     ]
    }
   ],
   "source": [
    "print(\"Exponent of 2: \",np.exp(2))\n",
    "arr_4=np.array([2,4,6])\n",
    "print(\"Exponent of arr_4 is: \",np.exp(arr_4))"
   ]
  },
  {
   "cell_type": "markdown",
   "metadata": {
    "id": "yIklf4BSZl6a"
   },
   "source": [
    "**NumPy Logarithms Functions**"
   ]
  },
  {
   "cell_type": "code",
   "execution_count": 4,
   "metadata": {
    "colab": {
     "base_uri": "https://localhost:8080/"
    },
    "id": "rrbnYPvVZx9G",
    "outputId": "dbe0f71e-c4b9-49c9-cab0-a0e730832f25"
   },
   "outputs": [
    {
     "data": {
      "text/plain": [
       "0.6931471805599453"
      ]
     },
     "execution_count": 4,
     "metadata": {},
     "output_type": "execute_result"
    }
   ],
   "source": [
    "np.log(2)"
   ]
  },
  {
   "cell_type": "code",
   "execution_count": 5,
   "metadata": {
    "colab": {
     "base_uri": "https://localhost:8080/"
    },
    "id": "npZsGogBhKwH",
    "outputId": "a5ece578-0fba-4a79-f217-b3db51492ca3"
   },
   "outputs": [
    {
     "data": {
      "text/plain": [
       "array([0.69314718, 1.38629436, 1.79175947])"
      ]
     },
     "execution_count": 5,
     "metadata": {},
     "output_type": "execute_result"
    }
   ],
   "source": [
    "np.log(arr_4)"
   ]
  },
  {
   "cell_type": "code",
   "execution_count": 6,
   "metadata": {
    "colab": {
     "base_uri": "https://localhost:8080/"
    },
    "id": "6MK8hcujhNSm",
    "outputId": "b66bd7d9-36e1-494a-ff28-186c306121c7"
   },
   "outputs": [
    {
     "data": {
      "text/plain": [
       "array([0.30103   , 0.60205999, 0.77815125])"
      ]
     },
     "execution_count": 6,
     "metadata": {},
     "output_type": "execute_result"
    }
   ],
   "source": [
    "# log with base 10\n",
    "np.log10(arr_4)"
   ]
  },
  {
   "cell_type": "markdown",
   "metadata": {
    "id": "SdaeVS0ehSyY"
   },
   "source": [
    "**Arithmetic Operations on Arrays**"
   ]
  },
  {
   "cell_type": "code",
   "execution_count": 7,
   "metadata": {
    "colab": {
     "base_uri": "https://localhost:8080/"
    },
    "id": "HWlecU_ohYBh",
    "outputId": "63bdadb5-9cba-44c0-e3bd-dd9d0bf7ea14"
   },
   "outputs": [
    {
     "name": "stdout",
     "output_type": "stream",
     "text": [
      "[1, 2, 3, 4, 5, 6]\n"
     ]
    }
   ],
   "source": [
    "# Arithmetic Operations on Lists\n",
    "l1=[1,2,3]\n",
    "l2=[4,5,6]\n",
    "print(l1+l2)"
   ]
  },
  {
   "cell_type": "code",
   "execution_count": 8,
   "metadata": {
    "colab": {
     "base_uri": "https://localhost:8080/"
    },
    "id": "EaMthTSTh9q4",
    "outputId": "461dbe6c-0769-4cef-fecd-e804909269a2"
   },
   "outputs": [
    {
     "name": "stdout",
     "output_type": "stream",
     "text": [
      "[1 2 3 4 5]\n",
      "[3 4 5 6 7]\n"
     ]
    }
   ],
   "source": [
    "# Arithmetic Operations on Arrays\n",
    "arr_5=np.arange(1,6)\n",
    "print(arr_5)\n",
    "\n",
    "arr_6=np.arange(3,8)\n",
    "print(arr_6)"
   ]
  },
  {
   "cell_type": "code",
   "execution_count": 10,
   "metadata": {
    "colab": {
     "base_uri": "https://localhost:8080/"
    },
    "id": "aLwXugX1iL0q",
    "outputId": "bfa2f8bd-4842-4f37-aa50-cb4fc5c61ee1"
   },
   "outputs": [
    {
     "name": "stdout",
     "output_type": "stream",
     "text": [
      "Addition:  [ 4  6  8 10 12]\n",
      "Subtraction:  [-2 -2 -2 -2 -2]\n",
      "Multiplication:  [ 3  8 15 24 35]\n",
      "Division:  [0.33333333 0.5        0.6        0.66666667 0.71428571]\n",
      "Inverse:  [1.         0.5        0.33333333 0.25       0.2       ]\n",
      "Powers:  [    1    16   243  4096 78125]\n"
     ]
    }
   ],
   "source": [
    "print(\"Addition: \", arr_5 + arr_6)\n",
    "print(\"Subtraction: \", arr_5 - arr_6)\n",
    "print(\"Multiplication: \", arr_5 * arr_6)\n",
    "print(\"Division: \", arr_5 / arr_6)\n",
    "print(\"Inverse: \", 1 / arr_5 )\n",
    "print(\"Powers: \", arr_5 ** arr_6)"
   ]
  },
  {
   "cell_type": "markdown",
   "metadata": {
    "id": "HeVvyde_kMhU"
   },
   "source": [
    "**Operations on Metrices**"
   ]
  },
  {
   "cell_type": "code",
   "execution_count": 12,
   "metadata": {
    "colab": {
     "base_uri": "https://localhost:8080/"
    },
    "id": "pi1rJ0MzkPmz",
    "outputId": "76867f01-e983-4cce-8f9b-8f234af620bc"
   },
   "outputs": [
    {
     "name": "stdout",
     "output_type": "stream",
     "text": [
      "[[1 2 3]\n",
      " [4 5 6]\n",
      " [7 8 9]]\n",
      "[[1. 0. 0.]\n",
      " [0. 1. 0.]\n",
      " [0. 0. 1.]]\n"
     ]
    }
   ],
   "source": [
    "matrix_4=np.arange(1,10).reshape(3,3)\n",
    "print(matrix_4)\n",
    "\n",
    "matrix_6=np.eye(3)\n",
    "print(matrix_6)"
   ]
  },
  {
   "cell_type": "code",
   "execution_count": 17,
   "metadata": {
    "colab": {
     "base_uri": "https://localhost:8080/"
    },
    "id": "hz9RVO5rkl9d",
    "outputId": "2375ca8b-3ea2-4d1d-d25c-2810beba5497"
   },
   "outputs": [
    {
     "name": "stdout",
     "output_type": "stream",
     "text": [
      "Addition: \n",
      " [[ 2.  2.  3.]\n",
      " [ 4.  6.  6.]\n",
      " [ 7.  8. 10.]]\n",
      "Subtraction: \n",
      " [[0. 2. 3.]\n",
      " [4. 4. 6.]\n",
      " [7. 8. 8.]]\n",
      "Multiplication: \n",
      " [[1. 0. 0.]\n",
      " [0. 5. 0.]\n",
      " [0. 0. 9.]]\n",
      "Division: \n",
      " [[ 1. inf inf]\n",
      " [inf  5. inf]\n",
      " [inf inf  9.]]\n"
     ]
    },
    {
     "name": "stderr",
     "output_type": "stream",
     "text": [
      "<ipython-input-17-18215cc1dabe>:4: RuntimeWarning: divide by zero encountered in divide\n",
      "  print(\"Division: \\n\", matrix_4 / matrix_6)\n"
     ]
    }
   ],
   "source": [
    "print(\"Addition: \\n\", matrix_4 + matrix_6)\n",
    "print(\"Subtraction: \\n\", matrix_4 - matrix_6)\n",
    "print(\"Multiplication: \\n\", matrix_4 * matrix_6)\n",
    "print(\"Division: \\n\", matrix_4 / matrix_6)"
   ]
  },
  {
   "cell_type": "markdown",
   "metadata": {
    "id": "alhydkLSln1s"
   },
   "source": [
    "**Linear Algebra Matrix Multiplication**"
   ]
  },
  {
   "cell_type": "code",
   "execution_count": 18,
   "metadata": {
    "colab": {
     "base_uri": "https://localhost:8080/"
    },
    "id": "svKUw8bRlsGQ",
    "outputId": "c92b29c4-536f-49ae-efde-922d5ee7e34b"
   },
   "outputs": [
    {
     "name": "stdout",
     "output_type": "stream",
     "text": [
      "First Matrix: \n",
      " [[1 2 3]\n",
      " [4 5 6]\n",
      " [7 8 9]]\n",
      "Second Matrix: \n",
      " [[11 12 13]\n",
      " [14 15 16]\n",
      " [17 18 19]]\n",
      "Multiplication: \n",
      " [[ 90  96 102]\n",
      " [216 231 246]\n",
      " [342 366 390]]\n"
     ]
    }
   ],
   "source": [
    "matrix_7=np.arange(1,10).reshape(3,3)\n",
    "print(\"First Matrix: \\n\", matrix_7)\n",
    "\n",
    "matrix_8=np.arange(11,20).reshape(3,3)\n",
    "print(\"Second Matrix: \\n\", matrix_8)\n",
    "\n",
    "print(\"Multiplication: \\n\",matrix_7 @ matrix_8)"
   ]
  },
  {
   "cell_type": "markdown",
   "metadata": {
    "id": "sk7Kciskm-CK"
   },
   "source": [
    "**Transpose a Matrix**"
   ]
  },
  {
   "cell_type": "code",
   "execution_count": 20,
   "metadata": {
    "colab": {
     "base_uri": "https://localhost:8080/"
    },
    "id": "J-6mOnM7nAUO",
    "outputId": "89e12115-02c9-4732-f6fe-8b531c078c63"
   },
   "outputs": [
    {
     "name": "stdout",
     "output_type": "stream",
     "text": [
      "Origina: \n",
      " [[21 22 23]\n",
      " [24 25 26]\n",
      " [27 28 29]]\n",
      "Transpose: \n",
      " [[21 24 27]\n",
      " [22 25 28]\n",
      " [23 26 29]]\n"
     ]
    }
   ],
   "source": [
    "matrix_9=np.arange(21,30).reshape(3,3)\n",
    "print(\"Origina: \\n\",matrix_9)\n",
    "print(\"Transpose: \\n\", np.transpose(matrix_9)) # Another way is matrix_9.T"
   ]
  },
  {
   "cell_type": "markdown",
   "metadata": {
    "id": "Sfr6Fs9nn4CF"
   },
   "source": [
    "**Find Min and Max from Matrix**"
   ]
  },
  {
   "cell_type": "code",
   "execution_count": 22,
   "metadata": {
    "colab": {
     "base_uri": "https://localhost:8080/"
    },
    "id": "38lgyKuDn7aV",
    "outputId": "d756a001-17e1-45b6-8993-b6395934db30"
   },
   "outputs": [
    {
     "name": "stdout",
     "output_type": "stream",
     "text": [
      "Matrix_9: \n",
      " [[21 22 23]\n",
      " [24 25 26]\n",
      " [27 28 29]]\n",
      "Maximum Value: \n",
      " 29\n",
      "Minimum Value: \n",
      " 21\n"
     ]
    }
   ],
   "source": [
    "print(\"Matrix_9: \\n\",matrix_9)\n",
    "print(\"Maximum Value: \\n\",np.max(matrix_9))\n",
    "print(\"Minimum Value: \\n\",np.min(matrix_9))"
   ]
  },
  {
   "cell_type": "markdown",
   "metadata": {
    "id": "cl4Ky8MRoI8I"
   },
   "source": [
    "**Using np.random.rand function**\n",
    "\n",
    "---\n",
    "The np.random.rand returns a random NumPy array whose element(s) are drawn randomly from the uniform distribution over [0,1] (Including 0 and Excluding 1)\n",
    "\n",
    "**Synatx**: np.random.rand(d0,d1)\n",
    "        d0 , d1 - It represents the dimension of the required array given as int, where d1 is optional.\n"
   ]
  },
  {
   "cell_type": "code",
   "execution_count": 25,
   "metadata": {
    "colab": {
     "base_uri": "https://localhost:8080/"
    },
    "id": "xehXOalKosW0",
    "outputId": "4ec2070d-65f7-4bcb-abaa-d05d01af060f"
   },
   "outputs": [
    {
     "name": "stdout",
     "output_type": "stream",
     "text": [
      "[0.40626842 0.94907085 0.21585463 0.22214234 0.71232933]\n"
     ]
    }
   ],
   "source": [
    "# Random Values in the array\n",
    "rand_array=np.random.rand(5)\n",
    "print(rand_array)"
   ]
  },
  {
   "cell_type": "markdown",
   "metadata": {
    "id": "Owl0I74Fp1L9"
   },
   "source": [
    "***Using np.random.randn function***\n",
    "\n",
    "---\n",
    "This np.random.randn returns a random NumPy array whose sample(s) are drawn randomly from the standard normal ditribution (Mean as 0 and standard devioation as 1).\n",
    "\n",
    "**Syntax**: np.random.rand(d0,d1) where do, d1 = It represents the dimention of the output where d1 is optional\n"
   ]
  },
  {
   "cell_type": "code",
   "execution_count": 26,
   "metadata": {
    "colab": {
     "base_uri": "https://localhost:8080/"
    },
    "id": "fusLyylTqTHY",
    "outputId": "3fc55ad2-964e-4864-8ea0-0b057930a6f8"
   },
   "outputs": [
    {
     "name": "stdout",
     "output_type": "stream",
     "text": [
      "[ 0.62871109  1.76013516 -0.40987499  0.06586748  1.27584526]\n"
     ]
    }
   ],
   "source": [
    "rand_array2=np.random.randn(5)\n",
    "print(rand_array2)"
   ]
  },
  {
   "cell_type": "code",
   "execution_count": 29,
   "metadata": {
    "colab": {
     "base_uri": "https://localhost:8080/"
    },
    "id": "rvrnwdOiqZUK",
    "outputId": "a964b5aa-2936-4679-e657-df6b960b91b5"
   },
   "outputs": [
    {
     "name": "stdout",
     "output_type": "stream",
     "text": [
      "[[ 7.76917634e-01 -1.45642528e+00  1.36261314e+00 ...  1.10353233e+00\n",
      "  -3.02795781e-01 -1.03340750e-01]\n",
      " [-9.01472817e-02  9.57986699e-01 -2.10208707e+00 ...  8.82387915e-01\n",
      "   2.16226894e-01 -2.50944291e+00]\n",
      " [-1.27152535e+00 -1.25298694e+00  2.19216520e+00 ... -1.41062036e+00\n",
      "  -3.11409023e-01  2.71197540e-01]\n",
      " ...\n",
      " [-1.82796126e-01 -4.39939407e-01  4.24006177e-01 ...  7.17104907e-01\n",
      "   4.19784852e-01 -1.25768276e-01]\n",
      " [-1.59674556e+00 -5.47399512e-02  6.30387885e-01 ...  1.41296547e-01\n",
      "  -5.49860047e-01 -7.15536376e-01]\n",
      " [ 1.36210907e+00 -1.94567341e-01  1.81192954e+00 ...  5.77598260e-01\n",
      "   1.04983203e-01  3.54649437e-04]]\n"
     ]
    }
   ],
   "source": [
    "rand_array3=np.random.randn(500,500)\n",
    "print(rand_array3)"
   ]
  },
  {
   "cell_type": "code",
   "execution_count": 31,
   "metadata": {
    "colab": {
     "base_uri": "https://localhost:8080/"
    },
    "id": "NSRjzODLqhE9",
    "outputId": "3b85f14f-7e1a-4e86-8a15-e02a4ef37a45"
   },
   "outputs": [
    {
     "name": "stdout",
     "output_type": "stream",
     "text": [
      "Mean:  -0.002316471245687456\n",
      "Standard Deviation:  0.9996440257434865\n"
     ]
    }
   ],
   "source": [
    "print(\"Mean: \",np.mean(rand_array3))\n",
    "print(\"Standard Deviation: \",np.std(rand_array3))"
   ]
  },
  {
   "cell_type": "markdown",
   "metadata": {
    "id": "9oZ_UHPurJ1C"
   },
   "source": [
    "**Using np.random.randint function**\n",
    "\n",
    "---\n",
    "This np.random.randint function returns a random NumPy array whose element(s) are drwan randomly from low(inclusive) to the high(exclusive) range.\n",
    "\n",
    "**Syntax**:  np.random.randint(low, high, size)\n",
    "\n",
    "**Parameters**\n",
    "\n",
    "*   low - Lowest inclusive boundary\n",
    "*   high - Upper exclusive boundary\n",
    "*   size - Represents the shape of the output\n",
    "\n",
    "\n",
    "\n"
   ]
  },
  {
   "cell_type": "code",
   "execution_count": 32,
   "metadata": {
    "colab": {
     "base_uri": "https://localhost:8080/"
    },
    "id": "NPiGXATGrzOC",
    "outputId": "acf096c0-95c6-4173-a60f-1f2138a096d9"
   },
   "outputs": [
    {
     "name": "stdout",
     "output_type": "stream",
     "text": [
      "[2 2 2 4 3 3 3 4 2 1]\n"
     ]
    }
   ],
   "source": [
    "rand_mat1=np.random.randint(1,5,10)\n",
    "print(rand_mat1)"
   ]
  },
  {
   "cell_type": "code",
   "execution_count": 33,
   "metadata": {
    "colab": {
     "base_uri": "https://localhost:8080/"
    },
    "id": "566pnoEVr9Mq",
    "outputId": "046de00b-31b6-4865-acfa-756f36e03455"
   },
   "outputs": [
    {
     "name": "stdout",
     "output_type": "stream",
     "text": [
      "[[2 6 5 2 7]\n",
      " [5 4 8 4 9]\n",
      " [9 3 1 6 1]\n",
      " [3 2 2 1 7]\n",
      " [4 7 2 5 2]]\n"
     ]
    }
   ],
   "source": [
    "rand_mat2=np.random.randint(1,10,[5,5])\n",
    "print(rand_mat2)"
   ]
  },
  {
   "cell_type": "markdown",
   "metadata": {
    "id": "pL_awl9Ctigr"
   },
   "source": [
    "**Accessing Elements of NumPy Array**"
   ]
  },
  {
   "cell_type": "code",
   "execution_count": 34,
   "metadata": {
    "colab": {
     "base_uri": "https://localhost:8080/"
    },
    "id": "Ri4_Af6Ttl8T",
    "outputId": "74415080-262a-4d28-f5d1-86530b272d9e"
   },
   "outputs": [
    {
     "name": "stdout",
     "output_type": "stream",
     "text": [
      "[ 1.47244502 -0.17989185  0.3313149   1.50822851  1.00879256 -0.16462988\n",
      " -0.66312248  0.14970802 -0.79099911  1.152301  ]\n"
     ]
    }
   ],
   "source": [
    "rand_array4=np.random.randn(10)\n",
    "print(rand_array4)"
   ]
  },
  {
   "cell_type": "code",
   "execution_count": 35,
   "metadata": {
    "colab": {
     "base_uri": "https://localhost:8080/"
    },
    "id": "S80jKPDxtvzP",
    "outputId": "cb3a36ed-add2-4bee-dcf6-d9a173a2b71d"
   },
   "outputs": [
    {
     "name": "stdout",
     "output_type": "stream",
     "text": [
      "-0.1646298805041907\n"
     ]
    }
   ],
   "source": [
    "# Accessing 6th Element\n",
    "print(rand_array4[5])"
   ]
  },
  {
   "cell_type": "code",
   "execution_count": 36,
   "metadata": {
    "colab": {
     "base_uri": "https://localhost:8080/"
    },
    "id": "h6eBerfLuJCr",
    "outputId": "102aa875-bbc1-42c6-f350-5a1cc96aca8e"
   },
   "outputs": [
    {
     "name": "stdout",
     "output_type": "stream",
     "text": [
      "[ 1.50822851  1.00879256 -0.16462988 -0.66312248  0.14970802]\n"
     ]
    }
   ],
   "source": [
    "# Accessing Multiple Elements\n",
    "print(rand_array4[3:8])"
   ]
  },
  {
   "cell_type": "code",
   "execution_count": 37,
   "metadata": {
    "colab": {
     "base_uri": "https://localhost:8080/"
    },
    "id": "jJd-j6czuYDH",
    "outputId": "bdd69895-cfab-4177-abba-8d5932a55813"
   },
   "outputs": [
    {
     "name": "stdout",
     "output_type": "stream",
     "text": [
      "Index of values to access:  [3 6 9]\n",
      "[ 1.50822851 -0.66312248  1.152301  ]\n"
     ]
    }
   ],
   "source": [
    "# Accessing Non-Consecutive Elements\n",
    "print(\"Index of values to access: \",np.arange(3, 10, 3))\n",
    "print(rand_array4[np.arange(3,10,3)])\n"
   ]
  },
  {
   "cell_type": "markdown",
   "metadata": {
    "id": "j4Xan42Mv00R"
   },
   "source": [
    "**Accessing Arrays Using Logical Operations**"
   ]
  },
  {
   "cell_type": "code",
   "execution_count": 38,
   "metadata": {
    "colab": {
     "base_uri": "https://localhost:8080/"
    },
    "id": "GZzkFfCRv5fg",
    "outputId": "b07c7556-d125-4050-dd0a-56ea1485d23c"
   },
   "outputs": [
    {
     "name": "stdout",
     "output_type": "stream",
     "text": [
      "[ 1.47244502 -0.17989185  0.3313149   1.50822851  1.00879256 -0.16462988\n",
      " -0.66312248  0.14970802 -0.79099911  1.152301  ]\n"
     ]
    }
   ],
   "source": [
    "print(rand_array4)"
   ]
  },
  {
   "cell_type": "code",
   "execution_count": 39,
   "metadata": {
    "colab": {
     "base_uri": "https://localhost:8080/"
    },
    "id": "sU71zFzjv899",
    "outputId": "0bd61cb3-c917-4016-bc11-5438e284215a"
   },
   "outputs": [
    {
     "data": {
      "text/plain": [
       "array([ True, False,  True,  True,  True, False, False,  True, False,\n",
       "        True])"
      ]
     },
     "execution_count": 39,
     "metadata": {},
     "output_type": "execute_result"
    }
   ],
   "source": [
    "rand_array4>0"
   ]
  },
  {
   "cell_type": "code",
   "execution_count": 41,
   "metadata": {
    "colab": {
     "base_uri": "https://localhost:8080/"
    },
    "id": "vEQy65jUwBtg",
    "outputId": "cea14716-77b3-47cd-d031-a5d6444c60da"
   },
   "outputs": [
    {
     "name": "stdout",
     "output_type": "stream",
     "text": [
      "Only Positive Values:  [1.47244502 0.3313149  1.50822851 1.00879256 0.14970802 1.152301  ]\n",
      "Only Negative Values:  [-0.17989185 -0.16462988 -0.66312248 -0.79099911]\n"
     ]
    }
   ],
   "source": [
    "# Accessing only the element of the arrays whose value is greater than 0\n",
    "print(\"Only Positive Values: \",rand_array4[rand_array4>0])\n",
    "print(\"Only Negative Values: \",rand_array4[rand_array4<0])"
   ]
  },
  {
   "cell_type": "markdown",
   "metadata": {
    "id": "MVwZz7PkwV1r"
   },
   "source": [
    "**Accessing the entries of a Matrix**"
   ]
  },
  {
   "cell_type": "code",
   "execution_count": 42,
   "metadata": {
    "colab": {
     "base_uri": "https://localhost:8080/"
    },
    "id": "n2Wf4YzpwYmt",
    "outputId": "cfa38813-dea0-40b0-ff13-6b3c8eb6666c"
   },
   "outputs": [
    {
     "name": "stdout",
     "output_type": "stream",
     "text": [
      "[[ 2.52477838  0.47073486  0.0630893   0.19915571  1.00553187]\n",
      " [ 0.30963723  0.06534575 -0.31847369  0.46888536  0.40515593]\n",
      " [ 0.20487569 -0.86131782  0.2067764  -0.14588943  0.21891474]\n",
      " [ 1.16486584  0.12059225 -0.691094   -0.16874237 -0.7524963 ]\n",
      " [ 0.08698722  1.06073574  0.82176824  0.41876125 -0.68429413]]\n"
     ]
    }
   ],
   "source": [
    "rand_mat4=np.random.randn(5,5)\n",
    "print(rand_mat4)"
   ]
  },
  {
   "cell_type": "code",
   "execution_count": 43,
   "metadata": {
    "colab": {
     "base_uri": "https://localhost:8080/"
    },
    "id": "2K-wwcXWyEoV",
    "outputId": "c3b0cab1-7f81-4037-b815-cb529c971804"
   },
   "outputs": [
    {
     "name": "stdout",
     "output_type": "stream",
     "text": [
      "0.4187612522621179\n"
     ]
    }
   ],
   "source": [
    "# Accessing the [4,3] element from the Matrix\n",
    "print(rand_mat4[4,3])"
   ]
  },
  {
   "cell_type": "code",
   "execution_count": 45,
   "metadata": {
    "colab": {
     "base_uri": "https://localhost:8080/"
    },
    "id": "HgT5BvvYyWZx",
    "outputId": "9dbe8cd8-2d96-44a6-93a3-1e0139af9bed"
   },
   "outputs": [
    {
     "name": "stdout",
     "output_type": "stream",
     "text": [
      "Before: \n",
      " [[ 2.52477838  0.47073486  0.0630893   0.19915571  1.00553187]\n",
      " [ 0.30963723  0.06534575 -0.31847369  0.          0.        ]\n",
      " [ 0.20487569 -0.86131782  0.2067764  -0.14588943  0.21891474]\n",
      " [ 1.16486584  0.12059225 -0.691094   -0.16874237 -0.7524963 ]\n",
      " [ 0.08698722  1.06073574  0.82176824  0.41876125 -0.68429413]]\n",
      "After: \n",
      " [[ 2.52477838  0.47073486  0.0630893   0.19915571  1.00553187]\n",
      " [ 0.30963723  0.06534575 -0.31847369  0.          0.        ]\n",
      " [ 0.20487569 -0.86131782  0.2067764   0.          0.        ]\n",
      " [ 1.16486584  0.12059225 -0.691094   -0.16874237 -0.7524963 ]\n",
      " [ 0.08698722  1.06073574  0.82176824  0.41876125 -0.68429413]]\n"
     ]
    }
   ],
   "source": [
    "# Changing the 4th & 5th element of the 2nd and 3rd rows to be 0\n",
    "print(\"Before: \\n\",rand_mat4)\n",
    "rand_mat4[1:3,3:5]=0\n",
    "print(\"After: \\n\",rand_mat4)"
   ]
  },
  {
   "cell_type": "code",
   "execution_count": 46,
   "metadata": {
    "colab": {
     "base_uri": "https://localhost:8080/"
    },
    "id": "4xYK_oasy7b7",
    "outputId": "8f3ecc6c-6478-4467-e6e1-0e0dcad0db38"
   },
   "outputs": [
    {
     "name": "stdout",
     "output_type": "stream",
     "text": [
      "[[ 2.52477838  0.47073486  0.0630893 ]\n",
      " [ 0.30963723  0.06534575 -0.31847369]]\n"
     ]
    }
   ],
   "source": [
    "# Extracting the first 2 rows and first 3 columns\n",
    "sub_mat = rand_mat4[0:2,0:3]\n",
    "print(sub_mat)"
   ]
  },
  {
   "cell_type": "code",
   "execution_count": 47,
   "metadata": {
    "colab": {
     "base_uri": "https://localhost:8080/"
    },
    "id": "9DEIzHX4zKyV",
    "outputId": "febddcc7-84c9-4676-a977-cb1774487cb7"
   },
   "outputs": [
    {
     "name": "stdout",
     "output_type": "stream",
     "text": [
      "[[100. 100. 100.]\n",
      " [100. 100. 100.]]\n"
     ]
    }
   ],
   "source": [
    "# Change all values to 100\n",
    "sub_mat[:]=100\n",
    "print(sub_mat)"
   ]
  },
  {
   "cell_type": "code",
   "execution_count": 48,
   "metadata": {
    "colab": {
     "base_uri": "https://localhost:8080/"
    },
    "id": "oHhiuMCF0DxL",
    "outputId": "e50854b4-da05-45f2-c0c7-2651c63251ee"
   },
   "outputs": [
    {
     "name": "stdout",
     "output_type": "stream",
     "text": [
      "[[ 1.00000000e+02  1.00000000e+02  1.00000000e+02  1.99155709e-01\n",
      "   1.00553187e+00]\n",
      " [ 1.00000000e+02  1.00000000e+02  1.00000000e+02  0.00000000e+00\n",
      "   0.00000000e+00]\n",
      " [ 2.04875691e-01 -8.61317818e-01  2.06776404e-01  0.00000000e+00\n",
      "   0.00000000e+00]\n",
      " [ 1.16486584e+00  1.20592251e-01 -6.91093999e-01 -1.68742373e-01\n",
      "  -7.52496302e-01]\n",
      " [ 8.69872174e-02  1.06073574e+00  8.21768236e-01  4.18761252e-01\n",
      "  -6.84294128e-01]]\n"
     ]
    }
   ],
   "source": [
    "# What happens to rand_mat4\n",
    "print(rand_mat4)"
   ]
  },
  {
   "cell_type": "markdown",
   "metadata": {
    "id": "5tzhhQoi0LEQ"
   },
   "source": [
    "**Reason**: Python is a reference based programming language."
   ]
  },
  {
   "cell_type": "code",
   "execution_count": 50,
   "metadata": {
    "colab": {
     "base_uri": "https://localhost:8080/"
    },
    "id": "AMOR7sZj0RYh",
    "outputId": "16cd5184-cd3e-4846-f3cc-d1c0a8018d34"
   },
   "outputs": [
    {
     "name": "stdout",
     "output_type": "stream",
     "text": [
      "Original: \n",
      " [[ 0.60351897  0.19097058  0.95418422  0.17979464  0.63395506]\n",
      " [ 2.0038234  -1.85470902  0.89963763  0.26681219  0.48405078]\n",
      " [-0.06528036  0.49600442 -0.42245024 -1.16702407 -0.93899992]\n",
      " [ 1.03528116  1.06051035  0.6862486  -0.87708103  0.24779107]\n",
      " [ 0.88092557  1.35212363 -0.17438158  1.53652697  0.33270339]]\n",
      "SubMat1 Before Change: \n",
      " [[ 0.60351897  0.19097058  0.95418422]\n",
      " [ 2.0038234  -1.85470902  0.89963763]]\n",
      "SubMat1 After Change: \n",
      " [[100. 100. 100.]\n",
      " [100. 100. 100.]]\n",
      "Rand_Mat5: \n",
      " [[ 0.60351897  0.19097058  0.95418422  0.17979464  0.63395506]\n",
      " [ 2.0038234  -1.85470902  0.89963763  0.26681219  0.48405078]\n",
      " [-0.06528036  0.49600442 -0.42245024 -1.16702407 -0.93899992]\n",
      " [ 1.03528116  1.06051035  0.6862486  -0.87708103  0.24779107]\n",
      " [ 0.88092557  1.35212363 -0.17438158  1.53652697  0.33270339]]\n"
     ]
    }
   ],
   "source": [
    "rand_mat5=np.random.randn(5,5)\n",
    "print(\"Original: \\n\",rand_mat5)\n",
    "sub_mat1=rand_mat5[0:2,0:3].copy()\n",
    "print(\"SubMat1 Before Change: \\n\",sub_mat1)\n",
    "sub_mat1[:]=100\n",
    "print(\"SubMat1 After Change: \\n\",sub_mat1)\n",
    "print(\"Rand_Mat5: \\n\",rand_mat5)"
   ]
  },
  {
   "cell_type": "markdown",
   "metadata": {
    "id": "05b9WcGF38QB"
   },
   "source": [
    "**Saving and Loading a NumPy Array**"
   ]
  },
  {
   "cell_type": "code",
   "execution_count": 51,
   "metadata": {
    "colab": {
     "base_uri": "https://localhost:8080/"
    },
    "id": "kmpBrTF44RKW",
    "outputId": "51c528cd-d79d-449c-a2cf-027f8b0301bb"
   },
   "outputs": [
    {
     "name": "stdout",
     "output_type": "stream",
     "text": [
      "Mounted at /content/drive\n"
     ]
    }
   ],
   "source": [
    "from google.colab import drive\n",
    "drive.mount(\"/content/drive\")"
   ]
  },
  {
   "cell_type": "code",
   "execution_count": 70,
   "metadata": {
    "colab": {
     "base_uri": "https://localhost:8080/"
    },
    "id": "YVRpeuTi43fx",
    "outputId": "1cd528e6-cca0-4e0a-a7b4-f05e27e84c93"
   },
   "outputs": [
    {
     "name": "stdout",
     "output_type": "stream",
     "text": [
      "[[8 8 4 8 3]\n",
      " [4 7 7 8 4]]\n",
      "[[17 11 17 15 12]\n",
      " [18 16 19 16 17]]\n"
     ]
    }
   ],
   "source": [
    "randint_matrix1=np.random.randint(1,10,10).reshape(2,5)\n",
    "print(randint_matrix1)\n",
    "randint_matrix2=np.random.randint(10,20,10).reshape(2,5)\n",
    "print(randint_matrix2)"
   ]
  },
  {
   "cell_type": "markdown",
   "metadata": {
    "id": "3TGTsy9y5MMt"
   },
   "source": [
    "**Using np.save() function**"
   ]
  },
  {
   "cell_type": "code",
   "execution_count": 71,
   "metadata": {
    "id": "_pdKis-A5Pqy"
   },
   "outputs": [],
   "source": [
    "np.save(\"/content/drive/MyDrive/MIT/Applied Data Science/Week 1 - Python for Data Science/file_save\",randint_matrix1)"
   ]
  },
  {
   "cell_type": "markdown",
   "metadata": {
    "id": "JtKkyFBm6SPn"
   },
   "source": [
    "**Saving Multiple Files**"
   ]
  },
  {
   "cell_type": "code",
   "execution_count": 73,
   "metadata": {
    "id": "PnyS4Vpb6UwP"
   },
   "outputs": [],
   "source": [
    "np.savez(\"/content/drive/MyDrive/MIT/Applied Data Science/Week 1 - Python for Data Science/multi_file_save\",randint_matrix1=randint_matrix1,randint_matrix2=randint_matrix2,)"
   ]
  },
  {
   "cell_type": "markdown",
   "metadata": {
    "id": "-jnEhbKR6lBX"
   },
   "source": [
    "*   With **np.save()** function, we can save an array/matrix to a NumPy .npy format\n",
    "*   With **np.savez()** function, we can store several arrays/matrices into a single file in uncompressed .npz format"
   ]
  },
  {
   "cell_type": "code",
   "execution_count": 74,
   "metadata": {
    "colab": {
     "base_uri": "https://localhost:8080/"
    },
    "id": "B9Eui8dZ7AZb",
    "outputId": "1409fed9-422a-4413-f9f5-d5b218186eaf"
   },
   "outputs": [
    {
     "name": "stdout",
     "output_type": "stream",
     "text": [
      "[[8 8 4 8 3]\n",
      " [4 7 7 8 4]]\n"
     ]
    }
   ],
   "source": [
    "# Let's Load\n",
    "loaded_array=np.load(\"/content/drive/MyDrive/MIT/Applied Data Science/Week 1 - Python for Data Science/file_save.npy\")\n",
    "print(loaded_array)"
   ]
  },
  {
   "cell_type": "code",
   "execution_count": 75,
   "metadata": {
    "colab": {
     "base_uri": "https://localhost:8080/"
    },
    "id": "pzysrvD47cbM",
    "outputId": "251d25ea-bf31-4e05-f36f-f6fee0e073d8"
   },
   "outputs": [
    {
     "name": "stdout",
     "output_type": "stream",
     "text": [
      "NpzFile '/content/drive/MyDrive/MIT/Applied Data Science/Week 1 - Python for Data Science/multi_file_save.npz' with keys: randint_matrix1, randint_matrix2\n",
      "[[8 8 4 8 3]\n",
      " [4 7 7 8 4]]\n",
      "[[17 11 17 15 12]\n",
      " [18 16 19 16 17]]\n"
     ]
    }
   ],
   "source": [
    "loaded_multi_array=np.load(\"/content/drive/MyDrive/MIT/Applied Data Science/Week 1 - Python for Data Science/multi_file_save.npz\")\n",
    "print(loaded_multi_array)\n",
    "print(loaded_multi_array[\"randint_matrix1\"])\n",
    "print(loaded_multi_array[\"randint_matrix2\"])"
   ]
  },
  {
   "cell_type": "code",
   "execution_count": 76,
   "metadata": {
    "id": "rR1hlV9h8y9E"
   },
   "outputs": [],
   "source": [
    "# Save as text file\n",
    "np.savetxt(\"/content/drive/MyDrive/MIT/Applied Data Science/Week 1 - Python for Data Science/file_save.txt\",randint_matrix1,delimiter=\",\")"
   ]
  },
  {
   "cell_type": "code",
   "execution_count": 77,
   "metadata": {
    "colab": {
     "base_uri": "https://localhost:8080/"
    },
    "id": "DnCm-19O87eF",
    "outputId": "50938556-c976-4232-f840-e093d57e414e"
   },
   "outputs": [
    {
     "name": "stdout",
     "output_type": "stream",
     "text": [
      "randint_matrix1: \n",
      " [[8 8 4 8 3]\n",
      " [4 7 7 8 4]]\n",
      "rand_mat_txt: \n",
      " [[8. 8. 4. 8. 3.]\n",
      " [4. 7. 7. 8. 4.]]\n"
     ]
    }
   ],
   "source": [
    "rand_mat_txt=np.loadtxt(\"/content/drive/MyDrive/MIT/Applied Data Science/Week 1 - Python for Data Science/file_save.txt\",delimiter=\",\")\n",
    "\n",
    "print(\"randint_matrix1: \\n\",randint_matrix1)\n",
    "print(\"rand_mat_txt: \\n\",rand_mat_txt)"
   ]
  }
 ],
 "metadata": {
  "colab": {
   "authorship_tag": "ABX9TyM0Oj5TVECkxc8HEhfMzcZo",
   "include_colab_link": true,
   "provenance": []
  },
  "kernelspec": {
   "display_name": "Python 3",
   "name": "python3"
  },
  "language_info": {
   "codemirror_mode": {
    "name": "ipython",
    "version": 3
   },
   "file_extension": ".py",
   "mimetype": "text/x-python",
   "name": "python",
   "nbconvert_exporter": "python",
   "pygments_lexer": "ipython3",
   "version": "3.10.12"
  }
 },
 "nbformat": 4,
 "nbformat_minor": 0
}
